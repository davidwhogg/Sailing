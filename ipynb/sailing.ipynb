{
 "cells": [
  {
   "cell_type": "markdown",
   "metadata": {
    "colab_type": "text",
    "id": "view-in-github"
   },
   "source": [
    "<a href=\"https://colab.research.google.com/github/davidwhogg/Sailing/blob/main/ipynb/sailing.ipynb\" target=\"_parent\"><img src=\"https://colab.research.google.com/assets/colab-badge.svg\" alt=\"Open In Colab\"/></a>"
   ]
  },
  {
   "cell_type": "markdown",
   "metadata": {
    "id": "7wsdeJpWMcsY"
   },
   "source": [
    "# Anisotropic ram-pressure sailing model\n",
    "\n",
    "## to-do items:\n",
    "- Make sure terminology in the code matches terminology in the paper everywhere.\n",
    "- *Enhanced Goal:* Plot things in the air rest frame too; maybe also boat rest frame?\n",
    "- *Enhanced Goal:* Label the plots with the direction cosines.\n",
    "- *Enhanced Goal:* Make the boat glyph something with a direction (a grey triangle, say).\n",
    "- *Enhanced Goal:* Make the optimal route-planning actually work?"
   ]
  },
  {
   "cell_type": "code",
   "execution_count": null,
   "metadata": {
    "id": "kpCU8IP0_L60"
   },
   "outputs": [],
   "source": [
    "import numpy as np\n",
    "import pylab as plt\n",
    "import scipy.optimize as op\n",
    "np.random.seed(17)\n",
    "figunit, onefactor = 2.5, 1.2 # some units"
   ]
  },
  {
   "cell_type": "code",
   "execution_count": null,
   "metadata": {
    "id": "wc8eM3lp_X2d"
   },
   "outputs": [],
   "source": [
    "# create objects to hold the state of the world and the properties of the boat\n",
    "\n",
    "def ehats(theta):\n",
    "    \"\"\"\n",
    "    Take an angle and make two unit vectors, parallel and perpendicular to the implied vector.\n",
    "    - Note wastey-time `reshape(2)` function calls to assuage paranoia.\n",
    "    \"\"\"\n",
    "    ct = np.cos(theta)\n",
    "    st = np.sin(theta)\n",
    "    return np.array([ct, st]).reshape(2), np.array([-st, ct]).reshape(2)\n",
    "\n",
    "class World():\n",
    "    \n",
    "    def __init__(self, vwater, vair):\n",
    "        self.rho_water = 1.0 # kg / m^3\n",
    "        self.rho_air = 0.0014 # kg / m^3\n",
    "        self.vwater = vwater\n",
    "        assert self.vwater.shape == (2, )\n",
    "        self.vair = vair\n",
    "        assert self.vair.shape == (2, )\n",
    "\n",
    "class Boat():\n",
    "    \n",
    "    def __init__(self, Asail, Akeel, Aabove, Abelow):\n",
    "        self.Asail = Asail\n",
    "        self.Akeel = Akeel\n",
    "        self.Aabove = Aabove\n",
    "        self.Abelow = Abelow\n"
   ]
  },
  {
   "cell_type": "code",
   "execution_count": null,
   "metadata": {
    "id": "5G4ojQRPFLrm"
   },
   "outputs": [],
   "source": [
    "# create the world and the boat\n",
    "\n",
    "world = World(np.zeros(2), np.array([8., 0.])) # m/s; water and air velocities\n",
    "boat = Boat(1400., 2.0, 1400./250, 2.0/250) # m^2 I guess!"
   ]
  },
  {
   "cell_type": "code",
   "execution_count": null,
   "metadata": {
    "id": "euCPb5rICAH3"
   },
   "outputs": [],
   "source": [
    "# force\n",
    "\n",
    "def flat_force(rho, A, e, dv):\n",
    "    \"\"\"\n",
    "    Ram-pressure force on a flat surface of area A.\n",
    "    - Derivative needs to be carefully checked.\n",
    "    \"\"\"\n",
    "    edv = e @ dv\n",
    "    return rho * A * (edv) ** 2 * np.sign(edv) * e, \\\n",
    "       2 * rho * A * (edv) * np.sign(edv) * np.outer(e, e)\n",
    "\n",
    "def isotropic_force(rho, A, dv):\n",
    "    \"\"\"\n",
    "    Ram-pressure force on an isotropic object of projected area A.\n",
    "    - Derivative needs to be carefully checked.\n",
    "    \"\"\"\n",
    "    adv = np.sqrt(dv @ dv)\n",
    "    return rho * A * adv * dv, \\\n",
    "           rho * A * (adv * np.eye(2) + np.outer(dv, dv) / adv)\n",
    "\n",
    "def iso_planar_boat_force(vboat, theta_s, theta_k, boat, world):\n",
    "    \"\"\"\n",
    "    Compute the net force on a moving boat with an isotropic hull\n",
    "    and thin, planar sail and keel.\n",
    "    \"\"\"\n",
    "    rhoa = world.rho_air\n",
    "    rhow = world.rho_water\n",
    "    e_perp_s, e_par_s = ehats(theta_s)\n",
    "    e_perp_k, e_par_k = ehats(theta_k)\n",
    "    fa1, dfadv1 = flat_force(rhoa, boat.Asail, e_perp_s, world.vair - vboat)\n",
    "    fa2, dfadv2 = isotropic_force(rhoa, boat.Aabove, world.vair - vboat)\n",
    "    fw1, dfwdv1 = flat_force(rhow, boat.Akeel, e_perp_k, world.vwater - vboat)\n",
    "    fw2, dfwdv2 = isotropic_force(rhow, boat.Abelow, world.vwater - vboat)\n",
    "    return fa1 + fa2 + fw1 + fw2, -1. * (dfadv1 + dfadv2 + dfwdv1 + dfwdv2) # note negative sign\n",
    "\n",
    "def parallelepiped_boat_force(vboat, theta_s, theta_k, boat, world):\n",
    "    \"\"\"\n",
    "    Compute the net force on a moving boat with a thin, parallelepiped\n",
    "    sail and an thin, parallelepiped keel.\n",
    "    \"\"\"\n",
    "    rhoa = world.rho_air\n",
    "    rhow = world.rho_water\n",
    "    e_perp_s, e_par_s = ehats(theta_s)\n",
    "    e_perp_k, e_par_k = ehats(theta_k)\n",
    "    fa1, dfadv1 = flat_force(rhoa, boat.Asail, e_perp_s, world.vair - vboat)\n",
    "    fa2, dfadv2 = flat_force(rhoa, boat.Aabove, e_par_s, world.vair - vboat)\n",
    "    fw1, dfwdv1 = flat_force(rhow, boat.Akeel, e_perp_k, world.vwater - vboat)\n",
    "    fw2, dfwdv2 = flat_force(rhow, boat.Abelow, e_par_k, world.vwater - vboat)\n",
    "    return fa1 + fa2 + fw1 + fw2, -1. * (dfadv1 + dfadv2 + dfwdv1 + dfwdv2) # note negative sign\n",
    "\n",
    "# WHICH BOAT MODEL ARE WE USING?\n",
    "force = iso_planar_boat_force\n",
    "# force = parallelepiped_boat_force"
   ]
  },
  {
   "cell_type": "code",
   "execution_count": null,
   "metadata": {
    "id": "SZHDp6MTDCX7"
   },
   "outputs": [],
   "source": [
    "# use Newton's method to find the steady state\n",
    "\n",
    "def get_vboat(theta_s, theta_k, boat, world, maxiter=128):\n",
    "    \"\"\"\n",
    "    Use Newton's method to find the steady-state boat velocity.\n",
    "    \"\"\"\n",
    "    vb = 0.5 * (world.vair + world.vwater) # trust me\n",
    "    ff, dfdv = force(vb, theta_s, theta_k, boat, world)\n",
    "    iter = 0\n",
    "    while (ff @ ff) > 1.e-10 and iter < maxiter:\n",
    "        # print(iter, vb, ff, dfdv, np.linalg.lstsq(dfdv, ff, rcond=rcond)[0])\n",
    "        vb -= np.linalg.solve(dfdv, ff)\n",
    "        ff, dfdv = force(vb, theta_s, theta_k, boat, world)\n",
    "        iter += 1\n",
    "    if iter >= maxiter:\n",
    "        print(\"get_vboat(): WARNING: Terminated on maxiter.\")\n",
    "        print(iter, vb, ff, dfdv, np.linalg.eigvalsh(dfdv))\n",
    "    return vb"
   ]
  },
  {
   "cell_type": "code",
   "execution_count": null,
   "metadata": {
    "id": "y3pg-uqLEEjk"
   },
   "outputs": [],
   "source": [
    "# viz\n",
    "\n",
    "def hogg_arrow(ax, base, vector, c=\"k\", lw=2, alpha=1., headlen=1.5):\n",
    "    \"\"\"\n",
    "    This code exists because matplotlib has arrow issues that I can't abide.\n",
    "    \"\"\"\n",
    "    vmag = np.linalg.norm(vector)\n",
    "    thislen = vmag\n",
    "    if vmag > headlen:\n",
    "        thislen = headlen\n",
    "    tipangle = 0.2 # rad\n",
    "    ct, st = np.cos(tipangle), np.sin(tipangle)\n",
    "    R = np.array([[ct, st], [-st, ct]])\n",
    "    ltip = R @ vector * thislen / vmag\n",
    "    rtip = R.T @ vector * thislen / vmag\n",
    "    ax.plot([base[0], base[0] + vector[0], base[0] + vector[0] - ltip[0]],\n",
    "            [base[1], base[1] + vector[1], base[1] + vector[1] - ltip[1]],\n",
    "            color=c, ls=\"-\", lw=lw, alpha=alpha)\n",
    "    ax.plot([base[0] + vector[0], base[0] + vector[0] - rtip[0]],\n",
    "            [base[1] + vector[1], base[1] + vector[1] - rtip[1]],\n",
    "            color=c, ls=\"-\", lw=lw, alpha=alpha)\n",
    "\n",
    "def plot_boat(theta_s, theta_k, boat, world, ax=None, rdest=None):\n",
    "    \"\"\"\n",
    "    This code is filled with hard-coded parameters; brittle.\n",
    "    ONLY WORKS in the water rest frame right now.\n",
    "    \"\"\"\n",
    "    if ax is None:\n",
    "        f = plt.figure(figsize=(onefactor * figunit, onefactor * figunit))\n",
    "        ax = plt.gca()\n",
    "    vb = get_vboat(theta_s, theta_k, boat, world)\n",
    "\n",
    "    # set rest frame and plot the world\n",
    "    restframe = \"water rest frame\"\n",
    "    foo = 16.\n",
    "    ax.text(-foo, -foo, restframe)\n",
    "    vair = world.vair - world.vwater\n",
    "    vb = vb - world.vwater\n",
    "    hogg_arrow(ax, np.array([-foo, 0.]), vair)\n",
    "    ax.text(-foo, 1., \"wind\")\n",
    "    if rdest is not None:\n",
    "        rd = rdest * 2. * foo / np.linalg.norm(rdest)\n",
    "        ax.plot([0., rd[0]], [0., rd[1]], \"k--\", lw=1, alpha=0.5)\n",
    "\n",
    "    # plot the boat\n",
    "    seigv = ehats(theta_s)[1]\n",
    "    sw = 8.\n",
    "    ax.plot([-sw * seigv[0], sw * seigv[0]], [-sw * seigv[1], sw * seigv[1]], \"k-\", lw=1.)\n",
    "    keigv = ehats(theta_k)[1]\n",
    "    kw = 4.\n",
    "    ax.plot([-kw * keigv[0], kw * keigv[0]], [-kw * keigv[1], kw * keigv[1]], \"k-\", lw=6., alpha=0.2)\n",
    "    hogg_arrow(ax, [0., 0.], vb)\n",
    "    ax.set_xlim(-foo - 1., foo + 1.)\n",
    "    ax.set_ylim(-foo - 1., foo + 1.)\n",
    "    ax.set_aspect(\"equal\")"
   ]
  },
  {
   "cell_type": "code",
   "execution_count": null,
   "metadata": {
    "id": "l_v218ljFpWH",
    "scrolled": true
   },
   "outputs": [],
   "source": [
    "# check the plotting code\n",
    "theta_k = 0. * np.pi\n",
    "theta_s = 0.1 * np.pi\n",
    "plot_boat(theta_s, theta_k, boat, world)"
   ]
  },
  {
   "cell_type": "code",
   "execution_count": null,
   "metadata": {
    "id": "Xsk2qOOkFqfT",
    "scrolled": true
   },
   "outputs": [],
   "source": [
    "# a grid of cases\n",
    "n1, n2 = 8, 8\n",
    "fig, axes = plt.subplots(n1, n2, sharex=True, sharey=True, figsize=(n1 * figunit, n2 * figunit), tight_layout=True)\n",
    "\n",
    "for i in range(n1):\n",
    "  for j in range(n2):\n",
    "    theta_k = j * 0.5 * np.pi / (n2 - 1)\n",
    "    theta_s = i * 1.0 * np.pi / n1 + np.pi + theta_k\n",
    "    plot_boat(theta_s, theta_k, boat, world, ax=axes[i, j])\n",
    "fig.savefig(\"steady.pdf\")"
   ]
  },
  {
   "cell_type": "code",
   "execution_count": null,
   "metadata": {},
   "outputs": [],
   "source": [
    "# time for Good Sailing (tm):\n",
    "\n",
    "def sail_good(theta_k, boat, world):\n",
    "    \"\"\"\n",
    "    Find the best theta_s given a theta_k:\n",
    "    - Start with a grid search.\n",
    "    - Then optimize with (gasp) Nelder-Mead.\n",
    "    \"\"\"\n",
    "    def objective(theta_s):\n",
    "        e_k_par = ehats(theta_k)[1]\n",
    "        return -e_k_par @ (get_vboat(theta_s, theta_k, boat, world) - world.vwater)\n",
    "    ngrid = 16\n",
    "    theta_ss = np.arange(0.5 * np.pi / ngrid, np.pi, np.pi / ngrid)\n",
    "    obs = [objective(ts) for ts in theta_ss]\n",
    "    theta_s0 = theta_ss[np.argmin(obs)]\n",
    "    # plt.plot(theta_ss, obs, \"ko\")\n",
    "    # print(theta_s0)\n",
    "    res = op.minimize(objective, theta_s0, method=\"Nelder-Mead\")\n",
    "    if not res.success:\n",
    "        print(res)\n",
    "        assert False\n",
    "    return res.x[0]"
   ]
  },
  {
   "cell_type": "code",
   "execution_count": null,
   "metadata": {},
   "outputs": [],
   "source": [
    "# test sail_good()\n",
    "theta_k = 0.\n",
    "good_theta_s = sail_good(theta_k, boat, world)\n",
    "plot_boat(good_theta_s, theta_k, boat, world)\n",
    "theta_k = 0.75 * np.pi\n",
    "good_theta_s = sail_good(theta_k, boat, world)\n",
    "plot_boat(good_theta_s, theta_k, boat, world)"
   ]
  },
  {
   "cell_type": "code",
   "execution_count": null,
   "metadata": {},
   "outputs": [],
   "source": [
    "# a grid of cases\n",
    "n1, n2 = 4, 4\n",
    "fig, axes = plt.subplots(n1, n2, sharex=True, sharey=True, figsize=(n1 * figunit, n2 * figunit), tight_layout=True)\n",
    "axes = axes.flatten()\n",
    "\n",
    "k = 0\n",
    "for i in range(n1):\n",
    "    for j in range(n2):\n",
    "        theta_k = k * np.pi / (n1 * n2) - 0.5 * np.pi\n",
    "        theta_s = sail_good(theta_k, boat, world)\n",
    "        plot_boat(theta_s, theta_k, boat, world, ax=axes[k])\n",
    "        k += 1\n",
    "fig.savefig(\"good.pdf\")"
   ]
  },
  {
   "cell_type": "code",
   "execution_count": null,
   "metadata": {},
   "outputs": [],
   "source": [
    "# time for Better Sailing (tm):\n",
    "\n",
    "def sail_better(rdest, vdest, boat, world):\n",
    "    \"\"\"\n",
    "    Find the best theta_s, theta_k given a destination.\n",
    "    - Start with a grid of Good Sailing (tm) tests.\n",
    "    - Then optimize again with (gasp) Nelder-Mead.\n",
    "    \n",
    "    ## inputs:\n",
    "    - `rdest`: vector displacement to destination\n",
    "    - `vdest`: velocity of the destination (usually zero, but hey)\n",
    "    - `boat`: `Boat()` object\n",
    "    - `world`: `World()` object\n",
    "    \"\"\"\n",
    "    # define objective\n",
    "    edest = rdest / np.linalg.norm(rdest)\n",
    "    def objective(pars):\n",
    "        theta_s, theta_k = pars\n",
    "        return -edest @ (get_vboat(theta_s, theta_k, boat, world) - vdest)\n",
    "    # initialize by looking at a grid of Good(tm) options.\n",
    "    theta_k0 = np.arctan2(edest[1], edest[0]) - 0.5 * np.pi\n",
    "    theta_ks = np.linspace(theta_k0 - 0.125 * np.pi, theta_k0 + 0.125 * np.pi, 16)\n",
    "    parss = [(sail_good(theta_k, boat, world), theta_k) for theta_k in theta_ks]\n",
    "    objs = [objective(pars) for pars in parss]\n",
    "    pars0 = parss[np.argmin(objs)]\n",
    "    # optimize\n",
    "    res = op.minimize(objective, pars0, method=\"Nelder-Mead\")\n",
    "    if not res.success:\n",
    "        print(res)\n",
    "        assert False\n",
    "    return res.x"
   ]
  },
  {
   "cell_type": "code",
   "execution_count": null,
   "metadata": {},
   "outputs": [],
   "source": [
    "# test sail_better()\n",
    "rdest = np.array([-1000., 50.])\n",
    "vdest = np.zeros(2)\n",
    "better_theta_s, better_theta_k = sail_better(rdest, vdest, boat, world)\n",
    "plot_boat(better_theta_s, better_theta_k, boat, world, rdest=rdest)"
   ]
  },
  {
   "cell_type": "code",
   "execution_count": null,
   "metadata": {},
   "outputs": [],
   "source": [
    "# a grid of cases\n",
    "n1, n2 = 4, 4\n",
    "fig, axes = plt.subplots(n1, n2, sharex=True, sharey=True, figsize=(n1 * figunit, n2 * figunit), tight_layout=True)\n",
    "axes = axes.flatten()\n",
    "\n",
    "k = 0\n",
    "for i in range(n1):\n",
    "    for j in range(n2):\n",
    "        theta_d = k * np.pi / (n1 * n2) + 0.5 * np.pi / (n1 * n2)\n",
    "        rdest = 1000. * ehats(theta_d)[0]\n",
    "        theta_s, theta_k = sail_better(rdest, np.zeros(2), boat, world)\n",
    "        plot_boat(theta_s, theta_k, boat, world, ax=axes[k], rdest=rdest)\n",
    "        k += 1\n",
    "fig.savefig(\"better.pdf\")"
   ]
  },
  {
   "cell_type": "code",
   "execution_count": null,
   "metadata": {
    "id": "f2fgGfKIJbAW"
   },
   "outputs": [],
   "source": [
    "# now do a very large number of trials:\n",
    "\n",
    "ntrials = 2048\n",
    "vbs_random = np.zeros((ntrials, 2))\n",
    "for trial in range(ntrials):\n",
    "    theta_s, theta_k = 2. * np.pi * np.random.uniform(size=(2))\n",
    "    vb = get_vboat(theta_s, theta_k, boat, world)\n",
    "    vbs_random[trial] = vb"
   ]
  },
  {
   "cell_type": "code",
   "execution_count": null,
   "metadata": {},
   "outputs": [],
   "source": [
    "# now do some grids for Good and Better\n",
    "\n",
    "ntrials = 128\n",
    "vavbmax, vavbmin = 0., 0.\n",
    "vbs_good = np.zeros((ntrials, 2))\n",
    "for trial in range(ntrials):\n",
    "    theta_k = 2. * np.pi * (trial + 0.5) / ntrials\n",
    "    theta_s_good = sail_good(theta_k, boat, world)\n",
    "    vb = get_vboat(theta_s_good, theta_k, boat, world)\n",
    "    vbs_good[trial] = vb\n",
    "    if world.vair @ vb > vavbmax:\n",
    "        vavbmax = world.vair @ vb\n",
    "        downwind = (theta_s_good, theta_k)\n",
    "    if world.vair @ vb < vavbmin:\n",
    "        vavbmin = world.vair @ vb\n",
    "        upwind = (theta_s_good, theta_k)\n",
    "\n",
    "ntrials = 64\n",
    "vbs_better = np.zeros((ntrials, 2))\n",
    "for trial in range(ntrials):\n",
    "    theta = 2. * np.pi * (trial + 0.5) / ntrials\n",
    "    rdest = 1000. * ehats(theta)[0]\n",
    "    theta_s_better, theta_k_better = sail_better(rdest, np.zeros(2), boat, world)\n",
    "    vb = get_vboat(theta_s_better, theta_k_better, boat, world)\n",
    "    vbs_better[trial] = vb"
   ]
  },
  {
   "cell_type": "code",
   "execution_count": null,
   "metadata": {
    "id": "F4tLoGP9LbPu"
   },
   "outputs": [],
   "source": [
    "# plot the hourglass plots\n",
    "\n",
    "title = {}\n",
    "title[\"random\"] = \"random\"\n",
    "title[\"good\"] = \"GoodSailing(tm)\"\n",
    "title[\"better\"] = \"BetterSailing(tm)\"\n",
    "for vbs, name in ([vbs_random, \"random\"],\n",
    "                  [vbs_good, \"good\"],\n",
    "                  [vbs_better, \"better\"]):\n",
    "    fig = plt.figure(figsize=(4.5, 4.5))\n",
    "    ax = plt.gca()\n",
    "    ax.axvline(world.vair[0], color=\"k\", alpha=0.25, lw=1) # WARNING: BRITTLE\n",
    "    ax.axvline(0., color=\"k\", alpha=0.25, lw=1) # WARNING: BRITTLE\n",
    "    foo = np.linalg.norm(world.vair - world.vwater)\n",
    "    ax.set_xlim(-2 * foo, 2 * foo)\n",
    "    ax.set_ylim(-2 * foo, 2 * foo)\n",
    "    ax.set_aspect(\"equal\")\n",
    "    ax.plot(vbs[:, 0], vbs[:, 1], \"ko\", ms=2)\n",
    "    ax.set_ylabel(\"y-velocity of boat relative to water (m/s)\")\n",
    "    ax.set_xlabel(\"x-velocity of boat relative to water (m/s)\")\n",
    "    ax.set_title(title[name] + \" sail-keel settings\")\n",
    "    plt.savefig(\"hourglass-\" + name + \".pdf\")"
   ]
  },
  {
   "cell_type": "code",
   "execution_count": null,
   "metadata": {},
   "outputs": [],
   "source": [
    "# Now look at multiple boats\n",
    "boats = {}\n",
    "boats[\"0\"] = boat\n",
    "boats[\"A\"] = Boat(1400., 2.0, 1400./50, 2.0/250)\n",
    "boats[\"B\"] = Boat(1400., 2.0, 1400./1250, 2.0/250)\n",
    "boats[\"C\"] = Boat(1400., 2.0, 1400./250, 2.0/50)\n",
    "boats[\"D\"] = Boat(1400., 2.0, 1400./250, 2.0/1250)\n",
    "boats[\"E\"] = Boat(7000., 2.0, 7000./250, 2.0/250)\n",
    "boats[\"F\"] = Boat(1400., 10.0, 1400./250, 10.0/250)\n",
    "\n",
    "ntrials = 128\n",
    "vbs_goods = {}\n",
    "for key in boats.keys():\n",
    "    print(\"working on boat\", key)\n",
    "    bb = boats[key]\n",
    "    vbs_good = np.zeros((ntrials, 2))\n",
    "    for trial in range(ntrials):\n",
    "        theta_k = 2. * np.pi * (trial + 0.5) / ntrials\n",
    "        theta_s_good = sail_good(theta_k, bb, world)\n",
    "        vb = get_vboat(theta_s_good, theta_k, bb, world)\n",
    "        vbs_good[trial] = vb\n",
    "    vbs_goods[key] = vbs_good"
   ]
  },
  {
   "cell_type": "code",
   "execution_count": null,
   "metadata": {},
   "outputs": [],
   "source": [
    "for key in boats.keys():\n",
    "    fig = plt.figure(figsize=(4.5, 4.5))\n",
    "    ax = plt.gca()\n",
    "    ax.axvline(world.vair[0], color=\"k\", alpha=0.25, lw=1) # WARNING: BRITTLE\n",
    "    ax.axvline(0., color=\"k\", alpha=0.25, lw=1) # WARNING: BRITTLE\n",
    "    foo = np.linalg.norm(world.vair - world.vwater)\n",
    "    ax.set_xlim(-2 * foo, 2 * foo)\n",
    "    ax.set_ylim(-2 * foo, 2 * foo)\n",
    "    ax.set_aspect(\"equal\")\n",
    "    vbs = vbs_goods[key]\n",
    "    ax.plot(vbs[:, 0], vbs[:, 1], \"ko\", ms=2)\n",
    "    ax.set_ylabel(\"y-velocity of boat relative to water (m/s)\")\n",
    "    ax.set_xlabel(\"x-velocity of boat relative to water (m/s)\")\n",
    "    ax.set_title(\"Sailing in boat \" + key)"
   ]
  },
  {
   "cell_type": "code",
   "execution_count": null,
   "metadata": {},
   "outputs": [],
   "source": []
  }
 ],
 "metadata": {
  "colab": {
   "include_colab_link": true,
   "name": "sailing.ipynb",
   "provenance": []
  },
  "kernelspec": {
   "display_name": "Python 3",
   "language": "python",
   "name": "python3"
  },
  "language_info": {
   "codemirror_mode": {
    "name": "ipython",
    "version": 3
   },
   "file_extension": ".py",
   "mimetype": "text/x-python",
   "name": "python",
   "nbconvert_exporter": "python",
   "pygments_lexer": "ipython3",
   "version": "3.8.5"
  }
 },
 "nbformat": 4,
 "nbformat_minor": 1
}
