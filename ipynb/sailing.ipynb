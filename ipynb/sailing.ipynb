{
  "nbformat": 4,
  "nbformat_minor": 0,
  "metadata": {
    "colab": {
      "name": "sailing.ipynb",
      "provenance": [],
      "include_colab_link": true
    },
    "kernelspec": {
      "name": "python3",
      "display_name": "Python 3"
    },
    "language_info": {
      "name": "python"
    }
  },
  "cells": [
    {
      "cell_type": "markdown",
      "metadata": {
        "id": "view-in-github",
        "colab_type": "text"
      },
      "source": [
        "<a href=\"https://colab.research.google.com/github/davidwhogg/Sailing/blob/main/ipynb/sailing.ipynb\" target=\"_parent\"><img src=\"https://colab.research.google.com/assets/colab-badge.svg\" alt=\"Open In Colab\"/></a>"
      ]
    },
    {
      "cell_type": "markdown",
      "metadata": {
        "id": "7wsdeJpWMcsY"
      },
      "source": [
        "# Anisotropic ram-pressure sailing model\n",
        "\n",
        "## to-do items:\n",
        "- do all the things in this notebook labeled HOGG.\n",
        "- Make the optimal sail-setting and route-planning use lookup tables.\n",
        "- (maybe) Use jax-numpy instead of numpy to get all derivatives?\n",
        "- Solve the problem of setting the sail *best*, given the keel orientation.\n",
        "- Solve the problem of setting both the sail and keel best if you want to go in a particular direction.\n",
        "- Solve the problem of maximizing the magnitude of the velocity.\n",
        "- Plot things in the air rest frame too.\n",
        "- Fix matplotlib arrow drawing, which is **all wrong**.\n"
      ]
    },
    {
      "cell_type": "code",
      "metadata": {
        "id": "kpCU8IP0_L60"
      },
      "source": [
        "import numpy as np\n",
        "import pylab as plt\n",
        "import scipy.optimize as op\n",
        "np.random.seed(17)"
      ],
      "execution_count": null,
      "outputs": []
    },
    {
      "cell_type": "code",
      "metadata": {
        "id": "wc8eM3lp_X2d"
      },
      "source": [
        "# set the fixed properties of the world and boat\n",
        "\n",
        "rho_water = 1.0 # kg / m^3\n",
        "rho_air = 0.0014 # kg / m^3\n",
        "A_perp_k = 1.0 # m^2\n",
        "A_perp_s = A_perp_k * rho_water / rho_air # seems like sensible design\n",
        "A_par_k = 0.01 * A_perp_k # very optimistic\n",
        "A_par_s = 0.01 * A_perp_s # very optimistic"
      ],
      "execution_count": null,
      "outputs": []
    },
    {
      "cell_type": "code",
      "metadata": {
        "id": "5G4ojQRPFLrm"
      },
      "source": [
        "# set the variable properties of the world\n",
        "\n",
        "vair = np.array([10., 0.]) # m / s\n",
        "vwater = np.array([0., 0.]) # m / s water rest frame"
      ],
      "execution_count": null,
      "outputs": []
    },
    {
      "cell_type": "code",
      "metadata": {
        "id": "XqdyaUG7Aman"
      },
      "source": [
        "# define functions to make tensors\n",
        "\n",
        "def A(Aperp, Apar, theta):\n",
        "  ct = np.cos(theta)\n",
        "  st = np.sin(theta)\n",
        "  eperp = np.array([ct, st])\n",
        "  epar = np.array([-st, ct])\n",
        "  return Aperp * np.outer(eperp, eperp) + Apar * np.outer(epar, epar)\n",
        "\n",
        "def A_air(theta):\n",
        "  return A(A_perp_s, A_par_s, theta)\n",
        "\n",
        "def A_water(theta):\n",
        "  return A(A_perp_k, A_par_k, theta)"
      ],
      "execution_count": null,
      "outputs": []
    },
    {
      "cell_type": "code",
      "metadata": {
        "id": "euCPb5rICAH3"
      },
      "source": [
        "# force\n",
        "TINY = 1.e-8\n",
        "\n",
        "def _force(rho, dv, AA):\n",
        "  absdv = np.sqrt(dv @ dv) + TINY\n",
        "  return rho * absdv * AA @ dv, \\\n",
        "      - (rho / absdv) * AA @ np.outer(dv, dv) - rho * absdv * AA\n",
        "\n",
        "def force(vboat, vair, vwater, theta_s, theta_k):\n",
        "  fa, dfadv = _force(rho_air, vair - vboat, A_air(theta_s))\n",
        "  fw, dfwdv = _force(rho_water, vwater - vboat, A_water(theta_k))\n",
        "  return fa + fw, dfadv + dfwdv"
      ],
      "execution_count": null,
      "outputs": []
    },
    {
      "cell_type": "code",
      "metadata": {
        "id": "SZHDp6MTDCX7"
      },
      "source": [
        "# use physics to find the steady state\n",
        "\n",
        "def get_vboat(vair, vwater, theta_s, theta_k, maxiter=100_000):\n",
        "  vbig = 10. * np.sqrt(np.sum((vair - vwater) ** 2))\n",
        "  vb = np.array([0., 0.])\n",
        "  ff, dfdv = force(vb, vair, vwater, theta_s, theta_k)\n",
        "  iter = 0\n",
        "  while (ff @ ff) > 1.e-10 and iter < maxiter and np.all(vb < vbig):\n",
        "    # print(iter, vb, ff, dfdv, np.linalg.solve(dfdv, ff))\n",
        "    vb -= np.linalg.solve(dfdv, ff)\n",
        "    ff, dfdv = force(vb, vair, vwater, theta_s, theta_k)\n",
        "    iter += 1\n",
        "  if iter >= maxiter:\n",
        "    print(\"get_vboat(): WARNING: Terminated on maxiter.\")\n",
        "  if np.any(vb > vbig):\n",
        "    print(\"get_vboat(): WARNING: Terminated on large velocity.\")\n",
        "  return vb\n",
        "  \n",
        "# THIS VERSION IS STUPID\n",
        "def old_get_vboat(vair, vwater, theta_s, theta_k, foo=1.e-4, maxiter=100_000):\n",
        "  vbig = 10. * np.sqrt(np.sum((vair - vwater) ** 2))\n",
        "  vb = np.array([0., 0.])\n",
        "  ff, dfdv = force(vb, vair, vwater, theta_s, theta_k)\n",
        "  iter = 0\n",
        "  while (ff @ ff) > 1.e-8 and iter < maxiter and np.all(vb < vbig):\n",
        "    vb += foo * ff\n",
        "    ff, dfdv = force(vb, vair, vwater, theta_s, theta_k)\n",
        "    iter += 1\n",
        "  if iter >= maxiter:\n",
        "    print(\"old_get_vboat(): WARNING: Terminated on maxiter.\")\n",
        "  if np.any(vb > vbig):\n",
        "    print(\"old_get_vboat(): WARNING: Terminated on large velocity.\")\n",
        "  return vb"
      ],
      "execution_count": null,
      "outputs": []
    },
    {
      "cell_type": "code",
      "metadata": {
        "id": "v6X9yvJpDt6T"
      },
      "source": [
        "# testing\n",
        "\n",
        "theta_k = 0.\n",
        "theta_s = np.pi / 7.\n",
        "vb = [0., 0.]\n",
        "print(force(vb, vair, vwater, theta_s, theta_k))\n",
        "vboat = get_vboat(vair, vwater, theta_s, theta_k)\n",
        "print(theta_k, theta_s, vboat)"
      ],
      "execution_count": null,
      "outputs": []
    },
    {
      "cell_type": "code",
      "metadata": {
        "id": "y3pg-uqLEEjk"
      },
      "source": [
        "# viz\n",
        "\n",
        "def plot_boat(vair, vwater, theta_s, theta_k):\n",
        "  foo = -2.\n",
        "  plt.arrow(foo * vair[0], foo * vair[1], vair[0], vair[1], head_width=0.75, color=\"k\")\n",
        "  plt.text(foo * vair[0], foo * vair[1] + 0.1 * vair[0], \"wind\")\n",
        "  seigv = np.linalg.eigh(A_air(theta_s))[1][0]\n",
        "  plt.plot([-7. * seigv[0], 7. * seigv[0]], [-6. * seigv[1], 6. * seigv[1]], \"k-\", lw=1.)\n",
        "  keigv = np.linalg.eigh(A_water(theta_k))[1][0]\n",
        "  plt.plot([-4. * keigv[0], 4. * keigv[0]], [-5. * keigv[1], 5. * keigv[1]], \"k-\", lw=6., alpha=0.2)\n",
        "  vboat = get_vboat(vair, vwater, theta_s, theta_k)\n",
        "  plt.arrow(0., 0., vboat[0], vboat[1], head_width=0.75, color=\"k\")\n",
        "  plt.xlim(-24, 24)\n",
        "  plt.ylim(-24, 24)\n",
        "  plt.gca().set_aspect(\"equal\")"
      ],
      "execution_count": null,
      "outputs": []
    },
    {
      "cell_type": "code",
      "metadata": {
        "id": "l_v218ljFpWH"
      },
      "source": [
        "plot_boat(vair, vwater, theta_s, theta_k)"
      ],
      "execution_count": null,
      "outputs": []
    },
    {
      "cell_type": "code",
      "metadata": {
        "id": "Xsk2qOOkFqfT"
      },
      "source": [
        "# 5 random cases of sailing non-optimally\n",
        "\n",
        "for theta_s, theta_k in 2. * np.pi * np.random.uniform(size=(5, 2)):\n",
        "  plt.figure()\n",
        "  plot_boat(vair, vwater, theta_s, theta_k)"
      ],
      "execution_count": null,
      "outputs": []
    },
    {
      "cell_type": "code",
      "metadata": {
        "id": "JKsMiJqg0pVh"
      },
      "source": [
        "# a few wind-aligned cases\n",
        "\n",
        "for theta_s in (0., np.pi / 2.):\n",
        "  for theta_k in (0., np.pi / 2.):\n",
        "    plt.figure()\n",
        "    plot_boat(vair, vwater, theta_s, theta_k)"
      ],
      "execution_count": null,
      "outputs": []
    },
    {
      "cell_type": "code",
      "metadata": {
        "id": "GvrAsA_Cbtkd"
      },
      "source": [
        "# we could do here a whole grid of options, for the paper.... HOGG DO THAT"
      ],
      "execution_count": null,
      "outputs": []
    },
    {
      "cell_type": "code",
      "metadata": {
        "id": "f2fgGfKIJbAW"
      },
      "source": [
        "# now do a very large number of trials:\n",
        "ntrials = 3000\n",
        "vavbmax, vavbmin = 0., 0.\n",
        "vboats = np.zeros((ntrials, 2))\n",
        "for trial in range(ntrials):\n",
        "  theta_s, theta_k = 2. * np.pi * np.random.uniform(size=(2))\n",
        "  vb = get_vboat(vair, vwater, theta_s, theta_k)\n",
        "  vboats[trial] = vb\n",
        "  if vair @ vb > vavbmax:\n",
        "    vavbmax = vair @ vb\n",
        "    downwind = (theta_s, theta_k)\n",
        "  if vair @ vb < vavbmin:\n",
        "    vavbmin = vair @ vb\n",
        "    upwind = (theta_s, theta_k)"
      ],
      "execution_count": null,
      "outputs": []
    },
    {
      "cell_type": "code",
      "metadata": {
        "id": "F4tLoGP9LbPu"
      },
      "source": [
        "# HOGG: IS IT A COINCIDENCE THAT THIS LOOKS LIKE a projection of Y_10(theta, phi)?\n",
        "\n",
        "plt.axvline(vair[0], color=\"k\", alpha=0.25, lw=1) # WARNING: BRITTLE\n",
        "plt.axvline(-vair[0], color=\"k\", alpha=0.25, lw=1) # WARNING: BRITTLE\n",
        "plt.plot(vboats[:, 0], vboats[:, 1], \"k.\", ms=1)\n",
        "plt.plot(vboats[:, 0], -vboats[:, 1], \"k.\", ms=1) # WARNING: BRITTLE\n",
        "plt.xlim(-24, 24)\n",
        "plt.ylim(-24, 24)\n",
        "plt.gca().set_aspect(\"equal\")\n",
        "plt.xlabel(\"x-velocity of boat\")\n",
        "plt.ylabel(\"y-velocity of boat\")\n",
        "plt.title(\"lots of random sail-keel settings\")"
      ],
      "execution_count": null,
      "outputs": []
    },
    {
      "cell_type": "code",
      "metadata": {
        "id": "GAoKIc2KLqIA"
      },
      "source": [
        "plot_boat(vair, vwater, *downwind)\n",
        "plt.figure()\n",
        "plot_boat(vair, vwater, *upwind)"
      ],
      "execution_count": null,
      "outputs": []
    },
    {
      "cell_type": "code",
      "metadata": {
        "id": "unA11yOFPgdv"
      },
      "source": [
        "# now consier best-possible boat settings, given a vector towards the destination\n",
        "\n",
        "# HOGG WARNING: THIS CODE IS NOT CORRECT BECAUSE IT DOES LOCAL OPTIMIZATION!\n",
        "# I THINK WE NEED TO GO TO INTERPOLATION OF A LOOKUP TABLE.\n",
        "def get_best_thetas(r_dest, vair, vwater):\n",
        "  def foo(pars):\n",
        "    return -r_dest @ get_vboat(vair, vwater, *pars)\n",
        "  theta_s0 = np.arctan2(r_dest[1], r_dest[0])\n",
        "  theta_k0 = theta_k + 0.5 * np.pi\n",
        "  res = op.minimize(foo, (theta_s0, theta_k0), method=\"Nelder-Mead\")\n",
        "  return res['x']"
      ],
      "execution_count": null,
      "outputs": []
    },
    {
      "cell_type": "code",
      "metadata": {
        "id": "Sj33tpDGeR6Y"
      },
      "source": [
        "r_dest = np.array([2., 1.])\n",
        "best = get_best_thetas(r_dest, vair, vwater)\n",
        "plot_boat(vair, vwater, *best)"
      ],
      "execution_count": null,
      "outputs": []
    },
    {
      "cell_type": "code",
      "metadata": {
        "id": "XBd6SaO9elhP"
      },
      "source": [
        "# now plot a course from A to B\n",
        "# HOGG: WRONG: SEE ABOVE\n",
        "\n",
        "def make_course(r_A, r_B, vair, vwater, dt = 0.1):\n",
        "  bar = (r_B - r_A) @ (r_B - r_A)\n",
        "  rr = 1. * r_A\n",
        "  rrs = [rr, ]\n",
        "  r_AB = r_B - rr\n",
        "  while (rr - r_A) @ (r_B - r_A) < bar:\n",
        "    best = get_best_thetas(r_AB, vair, vwater)\n",
        "    vb = get_vboat(vair, vwater, *best)\n",
        "    rr = rr + vb * dt\n",
        "    r_AB = r_B - rr\n",
        "    rrs.append(rr)\n",
        "  return np.array(rrs)"
      ],
      "execution_count": null,
      "outputs": []
    },
    {
      "cell_type": "code",
      "metadata": {
        "id": "wMxzik4xhCbP"
      },
      "source": [
        "rA = np.array([0., 0.])\n",
        "rB = np.array([-100., 100.])\n",
        "rrs = make_course(rA, rB, vair, vwater)"
      ],
      "execution_count": null,
      "outputs": []
    },
    {
      "cell_type": "code",
      "metadata": {
        "id": "nGxp6OIfhRMF"
      },
      "source": [
        "print(rrs.shape)\n",
        "plt.plot([rA[0],], [rA[1],], \"ko\")\n",
        "plt.plot([rB[0],], [rB[1],], \"ro\")\n",
        "plt.plot(rrs[:,0], rrs[:,1], \"k-\")\n",
        "plt.plot(rrs[:,0], rrs[:,1], \"k.\")\n",
        "plt.gca().set_aspect(\"equal\")\n",
        "plt.xlabel(\"x\")\n",
        "plt.ylabel(\"y\")\n",
        "plt.title(\"this plot is wrong\")"
      ],
      "execution_count": null,
      "outputs": []
    },
    {
      "cell_type": "code",
      "metadata": {
        "id": "6CbB5Mo7k5iu"
      },
      "source": [
        ""
      ],
      "execution_count": null,
      "outputs": []
    }
  ]
}