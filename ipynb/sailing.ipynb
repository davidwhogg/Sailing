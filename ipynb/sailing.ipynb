{
 "cells": [
  {
   "cell_type": "markdown",
   "metadata": {
    "colab_type": "text",
    "id": "view-in-github"
   },
   "source": [
    "<a href=\"https://colab.research.google.com/github/davidwhogg/Sailing/blob/main/ipynb/sailing.ipynb\" target=\"_parent\"><img src=\"https://colab.research.google.com/assets/colab-badge.svg\" alt=\"Open In Colab\"/></a>"
   ]
  },
  {
   "cell_type": "markdown",
   "metadata": {
    "id": "7wsdeJpWMcsY"
   },
   "source": [
    "# Anisotropic ram-pressure sailing model\n",
    "\n",
    "## to-do items:\n",
    "- do all the things in this notebook labeled HOGG.\n",
    "- Make the optimal route-planning.\n",
    "- Solve the problem of setting both the sail and keel best if you want to go in a particular direction.\n",
    "- Plot things in the air rest frame too.\n",
    "- Label the plots with the direction cosines.\n",
    "- Consider making the e-hat unit-vector things repeatedly called functions (reduce repeated code).\n",
    "- Make the boat glyph something with a direction (a grey triangle, say).\n",
    "- Make sure code clearly breaks degeneracies between `theta_s` and `theta_s - np.pi`"
   ]
  },
  {
   "cell_type": "code",
   "execution_count": 1,
   "metadata": {
    "id": "kpCU8IP0_L60"
   },
   "outputs": [],
   "source": [
    "import numpy as np\n",
    "import pylab as plt\n",
    "import scipy.optimize as op\n",
    "np.random.seed(17)"
   ]
  },
  {
   "cell_type": "code",
   "execution_count": 2,
   "metadata": {
    "id": "wc8eM3lp_X2d"
   },
   "outputs": [],
   "source": [
    "# create objects to hold the state of the world and the properties of the boat\n",
    "\n",
    "def ehats(theta):\n",
    "    \"\"\"\n",
    "    Wastey-time reshapes to be paranoid.\n",
    "    \"\"\"\n",
    "    ct = np.cos(theta)\n",
    "    st = np.sin(theta)\n",
    "    return np.array([ct, st]).reshape(2), np.array([-st, ct]).reshape(2)\n",
    "\n",
    "class World():\n",
    "    \n",
    "    def __init__(self, vwater, vair):\n",
    "        self.rho_water = 1.0 # kg / m^3\n",
    "        self.rho_air = 0.0014 # kg / m^3\n",
    "        self.vwater = vwater\n",
    "        assert self.vwater.shape == (2, )\n",
    "        self.vair = vair\n",
    "        assert self.vair.shape == (2, )\n",
    "\n",
    "class Boat():\n",
    "    \n",
    "    def __init__(self):\n",
    "        self.A_perp_k = 1.0 # m^2\n",
    "        self.A_perp_s = self.A_perp_k / 0.0014 # seems like sensible design\n",
    "        self.A_par_k = 0.005 * self.A_perp_k # very optimistic\n",
    "        self.A_par_s = 0.005 * self.A_perp_s # very optimistic\n"
   ]
  },
  {
   "cell_type": "code",
   "execution_count": 3,
   "metadata": {
    "id": "5G4ojQRPFLrm"
   },
   "outputs": [],
   "source": [
    "# create the world and the boat\n",
    "\n",
    "world = World(np.zeros(2), np.array([8., 0.])) # water and air velocities\n",
    "boat = Boat()"
   ]
  },
  {
   "cell_type": "code",
   "execution_count": 4,
   "metadata": {
    "id": "euCPb5rICAH3"
   },
   "outputs": [],
   "source": [
    "# force\n",
    "\n",
    "def _force(rho, A, e, dv):\n",
    "    edv = e @ dv\n",
    "    return rho * A * (edv) ** 2 * np.sign(edv) * e, \\\n",
    "      -2 * rho * A * (edv) * np.sign(edv) * np.outer(e, e)\n",
    "\n",
    "def force(vboat, theta_s, theta_k, boat, world):\n",
    "    \"\"\"\n",
    "    Compute the net force on a moving boat.\n",
    "    \"\"\"\n",
    "    rhoa = world.rho_air\n",
    "    rhow = world.rho_water\n",
    "    e_perp_s, e_par_s = ehats(theta_s)\n",
    "    e_perp_k, e_par_k = ehats(theta_k)\n",
    "    faperp, dfadvperp = _force(rhoa, boat.A_perp_s, e_perp_s, world.vair - vboat)\n",
    "    fapar,  dfadvpar  = _force(rhoa, boat.A_par_s,  e_par_s,  world.vair - vboat)\n",
    "    fa, dfadv = faperp + fapar, dfadvperp + dfadvpar\n",
    "    fwperp, dfwdvperp = _force(rhow, boat.A_perp_k, e_perp_k, world.vwater - vboat)\n",
    "    fwpar,  dfwdvpar  = _force(rhow, boat.A_par_k,  e_par_k,  world.vwater - vboat)\n",
    "    fw, dfwdv = fwperp + fwpar, dfwdvperp + dfwdvpar\n",
    "    return fa + fw, dfadv + dfwdv"
   ]
  },
  {
   "cell_type": "code",
   "execution_count": 5,
   "metadata": {
    "id": "SZHDp6MTDCX7"
   },
   "outputs": [],
   "source": [
    "# use Newton's method to find the steady state\n",
    "\n",
    "def get_vboat(theta_s, theta_k, boat, world, maxiter=128, rcond=1.e-6):\n",
    "    \"\"\"\n",
    "    Use Newton's method to find the steady-state boat velocity.\n",
    "    \"\"\"\n",
    "    vb = 0.5 * (world.vair + world.vwater) # trust me\n",
    "    ff, dfdv = force(vb, theta_s, theta_k, boat, world)\n",
    "    iter = 0\n",
    "    while (ff @ ff) > 1.e-10 and iter < maxiter:\n",
    "        # print(iter, vb, ff, dfdv, np.linalg.lstsq(dfdv, ff, rcond=rcond)[0])\n",
    "        vb -= np.linalg.lstsq(dfdv, ff, rcond=rcond)[0]\n",
    "        ff, dfdv = force(vb, theta_s, theta_k, boat, world)\n",
    "        iter += 1\n",
    "    if iter >= maxiter:\n",
    "        print(\"get_vboat(): WARNING: Terminated on maxiter.\")\n",
    "        print(iter, vb, ff, dfdv, np.linalg.eigvalsh(dfdv))\n",
    "    return vb"
   ]
  },
  {
   "cell_type": "code",
   "execution_count": 6,
   "metadata": {
    "id": "y3pg-uqLEEjk"
   },
   "outputs": [],
   "source": [
    "# viz\n",
    "\n",
    "def hogg_arrow(ax, base, vector, c=\"k\", lw=2, alpha=1., headlen=1.5):\n",
    "    \"\"\"\n",
    "    This code exists because matplotlib has arrow issues that I can't abide.\n",
    "    \"\"\"\n",
    "    vmag = np.linalg.norm(vector)\n",
    "    thislen = vmag\n",
    "    if vmag > headlen:\n",
    "        thislen = headlen\n",
    "    tipangle = 0.2 # rad\n",
    "    ct, st = np.cos(tipangle), np.sin(tipangle)\n",
    "    R = np.array([[ct, st], [-st, ct]])\n",
    "    ltip = R @ vector * thislen / vmag\n",
    "    rtip = R.T @ vector * thislen / vmag\n",
    "    ax.plot([base[0], base[0] + vector[0], base[0] + vector[0] - ltip[0]],\n",
    "            [base[1], base[1] + vector[1], base[1] + vector[1] - ltip[1]],\n",
    "            color=c, ls=\"-\", lw=lw, alpha=alpha)\n",
    "    ax.plot([base[0] + vector[0], base[0] + vector[0] - rtip[0]],\n",
    "            [base[1] + vector[1], base[1] + vector[1] - rtip[1]],\n",
    "            color=c, ls=\"-\", lw=lw, alpha=alpha)\n",
    "\n",
    "def plot_boat(theta_s, theta_k, boat, world, ax=None):\n",
    "    \"\"\"\n",
    "    This code is filled with hard-coded parameters; brittle.\n",
    "    ONLY WORKS in the water rest frame right now.\n",
    "    \"\"\"\n",
    "    if ax is None:\n",
    "        ax = plt.gca()\n",
    "    vb = get_vboat(theta_s, theta_k, boat, world)\n",
    "\n",
    "    # set rest frame and plot the world\n",
    "    restframe = \"water rest frame\"\n",
    "    ax.text(-20., -20., restframe)\n",
    "    vair = world.vair - world.vwater\n",
    "    vb = vb - world.vwater\n",
    "    hogg_arrow(ax, np.array([-20., 0.]), vair)\n",
    "    ax.text(-20., 1., \"wind\")\n",
    "\n",
    "    # plot the boat\n",
    "    seigv = ehats(theta_s)[1]\n",
    "    sw = 8.\n",
    "    ax.plot([-sw * seigv[0], sw * seigv[0]], [-sw * seigv[1], sw * seigv[1]], \"k-\", lw=1.)\n",
    "    keigv = ehats(theta_k)[1]\n",
    "    kw = 4.\n",
    "    ax.plot([-kw * keigv[0], kw * keigv[0]], [-kw * keigv[1], kw * keigv[1]], \"k-\", lw=6., alpha=0.2)\n",
    "    hogg_arrow(ax, [0., 0.], vb)\n",
    "    ax.set_xlim(-21, 21)\n",
    "    ax.set_ylim(-21, 21)\n",
    "    ax.set_aspect(\"equal\")"
   ]
  },
  {
   "cell_type": "code",
   "execution_count": 7,
   "metadata": {
    "id": "l_v218ljFpWH",
    "scrolled": true
   },
   "outputs": [
    {
     "data": {
      "image/png": "[encoded data removed]",
      "text/plain": [
       "<Figure size 432x288 with 1 Axes>"
      ]
     },
     "metadata": {
      "needs_background": "light"
     },
     "output_type": "display_data"
    }
   ],
   "source": [
    "# check the plotting code\n",
    "theta_k = 0. * np.pi\n",
    "theta_s = 0.1 * np.pi\n",
    "plot_boat(theta_s, theta_k, boat, world)"
   ]
  },
  {
   "cell_type": "code",
   "execution_count": null,
   "metadata": {
    "id": "Xsk2qOOkFqfT",
    "scrolled": true
   },
   "outputs": [],
   "source": [
    "# a grid of cases\n",
    "n1, n2 = 8, 8\n",
    "fig, axes = plt.subplots(n1, n2, sharex=True, sharey=True, figsize=(25, 25), tight_layout=True)\n",
    "\n",
    "for i in range(n1):\n",
    "  for j in range(n2):\n",
    "    theta_k = j * 0.5 * np.pi / (n2 - 1)\n",
    "    theta_s = i * 1.0 * np.pi / n1 + np.pi + theta_k\n",
    "    plot_boat(theta_s, theta_k, boat, world, ax=axes[i, j])"
   ]
  },
  {
   "cell_type": "code",
   "execution_count": null,
   "metadata": {},
   "outputs": [],
   "source": [
    "# time for Good Sailing (tm):\n",
    "\n",
    "def sail_good(theta_k, boat, world):\n",
    "    \"\"\"\n",
    "    Find the best theta_s given a theta_k:\n",
    "    - Start with a grid search.\n",
    "    - Then optimize with (gasp) Nelder-Mead.\n",
    "    \"\"\"\n",
    "    def objective(theta_s, theta_k, boat, world):\n",
    "        e_k_par = ehats(theta_k)[1]\n",
    "        return -e_k_par @ get_vboat(theta_s, theta_k, boat, world)\n",
    "    ngrid = 16\n",
    "    theta_ss = np.arange(0.5 * np.pi / ngrid, np.pi, np.pi / ngrid)\n",
    "    obs = [objective(ts, theta_k, boat, world) for ts in theta_ss]\n",
    "    theta_s0 = theta_ss[np.argmin(obs)]\n",
    "    # plt.plot(theta_ss, obs, \"ko\")\n",
    "    # print(theta_s0)\n",
    "    res = op.minimize(objective, theta_s0, args=(theta_k, boat, world), method=\"Nelder-Mead\")\n",
    "    if not res.success:\n",
    "        print(res)\n",
    "        assert False\n",
    "    return res.x[0]"
   ]
  },
  {
   "cell_type": "code",
   "execution_count": null,
   "metadata": {},
   "outputs": [],
   "source": [
    "# test sail_good()\n",
    "theta_k = 0.\n",
    "good_theta_s = sail_good(theta_k, boat, world)\n",
    "plot_boat(good_theta_s, theta_k, boat, world)\n",
    "plt.figure()\n",
    "theta_k = 0.75 * np.pi\n",
    "good_theta_s = sail_good(theta_k, boat, world)\n",
    "plot_boat(good_theta_s, theta_k, boat, world)"
   ]
  },
  {
   "cell_type": "code",
   "execution_count": null,
   "metadata": {},
   "outputs": [],
   "source": [
    "# a grid of cases\n",
    "n1, n2 = 4, 4\n",
    "fig, axes = plt.subplots(n1, n2, sharex=True, sharey=True, figsize=(12.5, 12.5), tight_layout=True)\n",
    "axes = axes.flatten()\n",
    "\n",
    "k = 0\n",
    "for i in range(n1):\n",
    "    for j in range(n2):\n",
    "        theta_k = k * np.pi / (n1 * n2) - 0.5 * np.pi\n",
    "        theta_s = sail_good(theta_k, boat, world)\n",
    "        plot_boat(theta_s, theta_k, boat, world, ax=axes[k])\n",
    "        k += 1"
   ]
  },
  {
   "cell_type": "code",
   "execution_count": null,
   "metadata": {
    "id": "f2fgGfKIJbAW"
   },
   "outputs": [],
   "source": [
    "# now do a very large number of trials:\n",
    "\n",
    "ntrials = 3000\n",
    "vbs_random = np.zeros((ntrials, 2))\n",
    "for trial in range(ntrials):\n",
    "    theta_s, theta_k = 2. * np.pi * np.random.uniform(size=(2))\n",
    "    vb = get_vboat(theta_s, theta_k, boat, world)\n",
    "    vbs_random[trial] = vb\n",
    "\n",
    "ntrials = 100\n",
    "vavbmax, vavbmin = 0., 0.\n",
    "vbs_good = np.zeros((ntrials, 2))\n",
    "for trial in range(ntrials):\n",
    "    theta_k = 2. * np.pi * np.random.uniform()\n",
    "    theta_s_good = sail_good(theta_k, boat, world)\n",
    "    vb = get_vboat(theta_s_good, theta_k, boat, world)\n",
    "    vbs_good[trial] = vb\n",
    "    if world.vair @ vb > vavbmax:\n",
    "        vavbmax = world.vair @ vb\n",
    "        downwind = (theta_s_good, theta_k)\n",
    "    if world.vair @ vb < vavbmin:\n",
    "        vavbmin = world.vair @ vb\n",
    "        upwind = (theta_s_good, theta_k)"
   ]
  },
  {
   "cell_type": "code",
   "execution_count": null,
   "metadata": {
    "id": "F4tLoGP9LbPu"
   },
   "outputs": [],
   "source": [
    "# plot the hourglass\n",
    "\n",
    "plt.axvline(world.vair[0], color=\"k\", alpha=0.25, lw=1) # WARNING: BRITTLE\n",
    "plt.axvline(0., color=\"k\", alpha=0.25, lw=1) # WARNING: BRITTLE\n",
    "plt.plot(vbs_random[:, 0], vbs_random[:, 1], \"k.\", ms=1)\n",
    "plt.plot(vbs_random[:, 0], -vbs_random[:, 1], \"k.\", ms=1) # WARNING: BRITTLE\n",
    "plt.xlim(-24, 24)\n",
    "plt.ylim(-24, 24)\n",
    "plt.gca().set_aspect(\"equal\")\n",
    "plt.xlabel(\"x-velocity of boat\")\n",
    "plt.ylabel(\"y-velocity of boat\")\n",
    "plt.title(\"lots of random sail-keel settings\")\n",
    "\n",
    "plt.figure()\n",
    "plt.axvline(world.vair[0], color=\"k\", alpha=0.25, lw=1) # WARNING: BRITTLE\n",
    "plt.axvline(0., color=\"k\", alpha=0.25, lw=1) # WARNING: BRITTLE\n",
    "plt.plot(vbs_good[:, 0], vbs_good[:, 1], \"k.\", ms=1)\n",
    "plt.plot(vbs_good[:, 0], -vbs_good[:, 1], \"k.\", ms=1) # WARNING: BRITTLE\n",
    "plt.xlim(-24, 24)\n",
    "plt.ylim(-24, 24)\n",
    "plt.gca().set_aspect(\"equal\")\n",
    "plt.xlabel(\"x-velocity of boat\")\n",
    "plt.ylabel(\"y-velocity of boat\")\n",
    "plt.title(\"lots of best-sailing settings\")"
   ]
  },
  {
   "cell_type": "code",
   "execution_count": null,
   "metadata": {
    "id": "GAoKIc2KLqIA"
   },
   "outputs": [],
   "source": [
    "# show best upwind and downwind cases found so far.\n",
    "\n",
    "plot_boat(*downwind, boat, world)\n",
    "plt.title(\"best-ish downwind tack\")\n",
    "plt.figure()\n",
    "plot_boat(*upwind, boat, world)\n",
    "plt.title(\"best-ish upwind tack\")"
   ]
  },
  {
   "cell_type": "code",
   "execution_count": null,
   "metadata": {
    "id": "unA11yOFPgdv"
   },
   "outputs": [],
   "source": [
    "# now consier best-possible boat settings, given a vector towards the destination\n",
    "\n",
    "# HOGG WARNING: THIS CODE IS NOT CORRECT BECAUSE IT DOES LOCAL OPTIMIZATION!\n",
    "# I THINK WE NEED TO initialize with sail_good()\n",
    "def get_best_thetas(r_dest, vair, vwater):\n",
    "  def foo(pars):\n",
    "    return -r_dest @ get_vboat(vair, vwater, *pars)\n",
    "  theta_s0 = np.arctan2(r_dest[1], r_dest[0])\n",
    "  theta_k0 = theta_k + 0.5 * np.pi\n",
    "  res = op.minimize(foo, (theta_s0, theta_k0), method=\"Nelder-Mead\")\n",
    "  return res['x']"
   ]
  },
  {
   "cell_type": "code",
   "execution_count": null,
   "metadata": {
    "id": "Sj33tpDGeR6Y"
   },
   "outputs": [],
   "source": [
    "r_dest = np.array([2., 1.])\n",
    "best = get_best_thetas(r_dest, vair, vwater)\n",
    "plot_boat(vair, vwater, *best)"
   ]
  },
  {
   "cell_type": "code",
   "execution_count": null,
   "metadata": {
    "id": "XBd6SaO9elhP"
   },
   "outputs": [],
   "source": [
    "# now plot a course from A to B\n",
    "# HOGG: WRONG: SEE ABOVE\n",
    "\n",
    "def make_course(r_A, r_B, vair, vwater, dt = 0.1):\n",
    "  bar = (r_B - r_A) @ (r_B - r_A)\n",
    "  rr = 1. * r_A\n",
    "  rrs = [rr, ]\n",
    "  r_AB = r_B - rr\n",
    "  while (rr - r_A) @ (r_B - r_A) < bar:\n",
    "    best = get_best_thetas(r_AB, vair, vwater)\n",
    "    vb = get_vboat(vair, vwater, *best)\n",
    "    rr = rr + vb * dt\n",
    "    r_AB = r_B - rr\n",
    "    rrs.append(rr)\n",
    "  return np.array(rrs)"
   ]
  },
  {
   "cell_type": "code",
   "execution_count": null,
   "metadata": {
    "id": "wMxzik4xhCbP"
   },
   "outputs": [],
   "source": [
    "rA = np.array([0., 0.])\n",
    "rB = np.array([-100., 100.])\n",
    "rrs = make_course(rA, rB, vair, vwater)"
   ]
  },
  {
   "cell_type": "code",
   "execution_count": null,
   "metadata": {
    "id": "nGxp6OIfhRMF"
   },
   "outputs": [],
   "source": [
    "print(rrs.shape)\n",
    "plt.plot([rA[0],], [rA[1],], \"ko\")\n",
    "plt.plot([rB[0],], [rB[1],], \"ro\")\n",
    "plt.plot(rrs[:,0], rrs[:,1], \"k-\")\n",
    "plt.plot(rrs[:,0], rrs[:,1], \"k.\")\n",
    "plt.gca().set_aspect(\"equal\")\n",
    "plt.xlabel(\"x\")\n",
    "plt.ylabel(\"y\")\n",
    "plt.title(\"this plot is wrong\")"
   ]
  },
  {
   "cell_type": "code",
   "execution_count": null,
   "metadata": {
    "id": "6CbB5Mo7k5iu"
   },
   "outputs": [],
   "source": []
  }
 ],
 "metadata": {
  "colab": {
   "include_colab_link": true,
   "name": "sailing.ipynb",
   "provenance": []
  },
  "kernelspec": {
   "display_name": "Python 3",
   "language": "python",
   "name": "python3"
  },
  "language_info": {
   "codemirror_mode": {
    "name": "ipython",
    "version": 3
   },
   "file_extension": ".py",
   "mimetype": "text/x-python",
   "name": "python",
   "nbconvert_exporter": "python",
   "pygments_lexer": "ipython3",
   "version": "3.8.5"
  }
 },
 "nbformat": 4,
 "nbformat_minor": 1
}
